{
  "nbformat": 4,
  "nbformat_minor": 0,
  "metadata": {
    "colab": {
      "name": "CDA_TS_LS_Paper_Metrics_Plots.ipynb",
      "provenance": [],
      "include_colab_link": true
    },
    "kernelspec": {
      "name": "python3",
      "display_name": "Python 3"
    },
    "accelerator": "GPU",
    "widgets": {
      "application/vnd.jupyter.widget-state+json": {
        "2420ce1ad5d9482c8e8122b263debd4b": {
          "model_module": "@jupyter-widgets/controls",
          "model_name": "HBoxModel",
          "state": {
            "_view_name": "HBoxView",
            "_dom_classes": [],
            "_model_name": "HBoxModel",
            "_view_module": "@jupyter-widgets/controls",
            "_model_module_version": "1.5.0",
            "_view_count": null,
            "_view_module_version": "1.5.0",
            "box_style": "",
            "layout": "IPY_MODEL_defd45d9969d48d89ad13337773dcbfd",
            "_model_module": "@jupyter-widgets/controls",
            "children": [
              "IPY_MODEL_36b10aac59ad43049b1afb85413ae9ca",
              "IPY_MODEL_716e1988572845a1a1362eec0161de64"
            ]
          }
        },
        "defd45d9969d48d89ad13337773dcbfd": {
          "model_module": "@jupyter-widgets/base",
          "model_name": "LayoutModel",
          "state": {
            "_view_name": "LayoutView",
            "grid_template_rows": null,
            "right": null,
            "justify_content": null,
            "_view_module": "@jupyter-widgets/base",
            "overflow": null,
            "_model_module_version": "1.2.0",
            "_view_count": null,
            "flex_flow": null,
            "width": null,
            "min_width": null,
            "border": null,
            "align_items": null,
            "bottom": null,
            "_model_module": "@jupyter-widgets/base",
            "top": null,
            "grid_column": null,
            "overflow_y": null,
            "overflow_x": null,
            "grid_auto_flow": null,
            "grid_area": null,
            "grid_template_columns": null,
            "flex": null,
            "_model_name": "LayoutModel",
            "justify_items": null,
            "grid_row": null,
            "max_height": null,
            "align_content": null,
            "visibility": null,
            "align_self": null,
            "height": null,
            "min_height": null,
            "padding": null,
            "grid_auto_rows": null,
            "grid_gap": null,
            "max_width": null,
            "order": null,
            "_view_module_version": "1.2.0",
            "grid_template_areas": null,
            "object_position": null,
            "object_fit": null,
            "grid_auto_columns": null,
            "margin": null,
            "display": null,
            "left": null
          }
        },
        "36b10aac59ad43049b1afb85413ae9ca": {
          "model_module": "@jupyter-widgets/controls",
          "model_name": "FloatProgressModel",
          "state": {
            "_view_name": "ProgressView",
            "style": "IPY_MODEL_ac5d046fb1d14f03b279cc86cc3ad972",
            "_dom_classes": [],
            "description": "",
            "_model_name": "FloatProgressModel",
            "bar_style": "info",
            "max": 1,
            "_view_module": "@jupyter-widgets/controls",
            "_model_module_version": "1.5.0",
            "value": 1,
            "_view_count": null,
            "_view_module_version": "1.5.0",
            "orientation": "horizontal",
            "min": 0,
            "description_tooltip": null,
            "_model_module": "@jupyter-widgets/controls",
            "layout": "IPY_MODEL_19c5f7cc66784d3f9980e800893044da"
          }
        },
        "716e1988572845a1a1362eec0161de64": {
          "model_module": "@jupyter-widgets/controls",
          "model_name": "HTMLModel",
          "state": {
            "_view_name": "HTMLView",
            "style": "IPY_MODEL_93423970b0ba44d4a4b0de64481a2428",
            "_dom_classes": [],
            "description": "",
            "_model_name": "HTMLModel",
            "placeholder": "​",
            "_view_module": "@jupyter-widgets/controls",
            "_model_module_version": "1.5.0",
            "value": " 169009152/? [00:20&lt;00:00, 53967231.16it/s]",
            "_view_count": null,
            "_view_module_version": "1.5.0",
            "description_tooltip": null,
            "_model_module": "@jupyter-widgets/controls",
            "layout": "IPY_MODEL_31e9df5a60254d939059cd8ca6bd225b"
          }
        },
        "ac5d046fb1d14f03b279cc86cc3ad972": {
          "model_module": "@jupyter-widgets/controls",
          "model_name": "ProgressStyleModel",
          "state": {
            "_view_name": "StyleView",
            "_model_name": "ProgressStyleModel",
            "description_width": "initial",
            "_view_module": "@jupyter-widgets/base",
            "_model_module_version": "1.5.0",
            "_view_count": null,
            "_view_module_version": "1.2.0",
            "bar_color": null,
            "_model_module": "@jupyter-widgets/controls"
          }
        },
        "19c5f7cc66784d3f9980e800893044da": {
          "model_module": "@jupyter-widgets/base",
          "model_name": "LayoutModel",
          "state": {
            "_view_name": "LayoutView",
            "grid_template_rows": null,
            "right": null,
            "justify_content": null,
            "_view_module": "@jupyter-widgets/base",
            "overflow": null,
            "_model_module_version": "1.2.0",
            "_view_count": null,
            "flex_flow": null,
            "width": null,
            "min_width": null,
            "border": null,
            "align_items": null,
            "bottom": null,
            "_model_module": "@jupyter-widgets/base",
            "top": null,
            "grid_column": null,
            "overflow_y": null,
            "overflow_x": null,
            "grid_auto_flow": null,
            "grid_area": null,
            "grid_template_columns": null,
            "flex": null,
            "_model_name": "LayoutModel",
            "justify_items": null,
            "grid_row": null,
            "max_height": null,
            "align_content": null,
            "visibility": null,
            "align_self": null,
            "height": null,
            "min_height": null,
            "padding": null,
            "grid_auto_rows": null,
            "grid_gap": null,
            "max_width": null,
            "order": null,
            "_view_module_version": "1.2.0",
            "grid_template_areas": null,
            "object_position": null,
            "object_fit": null,
            "grid_auto_columns": null,
            "margin": null,
            "display": null,
            "left": null
          }
        },
        "93423970b0ba44d4a4b0de64481a2428": {
          "model_module": "@jupyter-widgets/controls",
          "model_name": "DescriptionStyleModel",
          "state": {
            "_view_name": "StyleView",
            "_model_name": "DescriptionStyleModel",
            "description_width": "",
            "_view_module": "@jupyter-widgets/base",
            "_model_module_version": "1.5.0",
            "_view_count": null,
            "_view_module_version": "1.2.0",
            "_model_module": "@jupyter-widgets/controls"
          }
        },
        "31e9df5a60254d939059cd8ca6bd225b": {
          "model_module": "@jupyter-widgets/base",
          "model_name": "LayoutModel",
          "state": {
            "_view_name": "LayoutView",
            "grid_template_rows": null,
            "right": null,
            "justify_content": null,
            "_view_module": "@jupyter-widgets/base",
            "overflow": null,
            "_model_module_version": "1.2.0",
            "_view_count": null,
            "flex_flow": null,
            "width": null,
            "min_width": null,
            "border": null,
            "align_items": null,
            "bottom": null,
            "_model_module": "@jupyter-widgets/base",
            "top": null,
            "grid_column": null,
            "overflow_y": null,
            "overflow_x": null,
            "grid_auto_flow": null,
            "grid_area": null,
            "grid_template_columns": null,
            "flex": null,
            "_model_name": "LayoutModel",
            "justify_items": null,
            "grid_row": null,
            "max_height": null,
            "align_content": null,
            "visibility": null,
            "align_self": null,
            "height": null,
            "min_height": null,
            "padding": null,
            "grid_auto_rows": null,
            "grid_gap": null,
            "max_width": null,
            "order": null,
            "_view_module_version": "1.2.0",
            "grid_template_areas": null,
            "object_position": null,
            "object_fit": null,
            "grid_auto_columns": null,
            "margin": null,
            "display": null,
            "left": null
          }
        }
      }
    }
  },
  "cells": [
    {
      "cell_type": "markdown",
      "metadata": {
        "id": "view-in-github",
        "colab_type": "text"
      },
      "source": [
        "<a href=\"https://colab.research.google.com/github/mobarakol/Class-Distribution-Aware_TS_LS/blob/main/CDA_TS_LS_Paper_Metrics_Plots.ipynb\" target=\"_parent\"><img src=\"https://colab.research.google.com/assets/colab-badge.svg\" alt=\"Open In Colab\"/></a>"
      ]
    },
    {
      "cell_type": "markdown",
      "metadata": {
        "id": "EJUm1z2BRSKe"
      },
      "source": [
        "## Class-Distribution-Aware Calibration for Long-Tailed Visual Recognition\n",
        "\n",
        "Despite impressive accuracy, deep neural networks are often miscalibrated and tend to overly confident predictions. Recent techniques like temperature scaling (TS) and label smoothing (LS) show effectiveness in obtaining a well-calibrated model by smoothing logits and hard labels with scalar factors, respectively. However, the use of uniform TS or LS factor may not be optimal for calibrating models trained on a long-tailed dataset where the model produces overly confident probabilities for high-frequency classes. In this study, we propose class-distribution-aware TS (CDA-TS) and LS (CDA-LS) by incorporating class frequency information in model calibration in the context of long-tailed distribution. In CDA-TS, the scalar temperature value is replaced with the CDA temperature vector with larger values for high-frequency classes to compensate for the over-confidence. Similarly, CDA-LS uses a vector smoothing factor and flattens the hard labels according to their corresponding class distribution. We also integrate CDA optimal temperature vector with distillation loss, which reduces miscalibration in self-distillation (SD). We empirically show that class-distribution-aware TS and LS can accommodate the imbalanced data distribution yielding superior performance in both calibration error and predictive accuracy. We also observe that SD with an extremely imbalanced dataset is less effective in terms of calibration performance."
      ]
    },
    {
      "cell_type": "markdown",
      "metadata": {
        "id": "SL3U5LSzRd8O"
      },
      "source": [
        "Model:ResNet18"
      ]
    },
    {
      "cell_type": "code",
      "metadata": {
        "id": "hjlwEMr-RKe-"
      },
      "source": [
        "import torch\n",
        "import torch.nn as nn\n",
        "import torch.nn.functional as F\n",
        "\n",
        "class BasicBlock(nn.Module):\n",
        "    expansion = 1\n",
        "    def __init__(self, in_planes, planes, stride=1):\n",
        "        super(BasicBlock, self).__init__()\n",
        "        self.conv1 = nn.Conv2d(in_planes, planes, kernel_size=3, stride=stride, padding=1, bias=False)\n",
        "        self.bn1 = nn.BatchNorm2d(planes)\n",
        "        self.conv2 = nn.Conv2d(planes, planes, kernel_size=3, stride=1, padding=1, bias=False)\n",
        "        self.bn2 = nn.BatchNorm2d(planes)\n",
        "\n",
        "        self.shortcut = nn.Sequential()\n",
        "        if stride != 1 or in_planes != self.expansion*planes:\n",
        "            self.shortcut = nn.Sequential(\n",
        "                nn.Conv2d(in_planes, self.expansion*planes, kernel_size=1, stride=stride, bias=False),\n",
        "                nn.BatchNorm2d(self.expansion*planes)\n",
        "            )\n",
        "\n",
        "    def forward(self, x):\n",
        "        out = F.relu(self.bn1(self.conv1(x)))\n",
        "        out = self.bn2(self.conv2(out))\n",
        "        out += self.shortcut(x)\n",
        "        out = F.relu(out)\n",
        "        return out\n",
        "\n",
        "class ResNet(nn.Module):\n",
        "    def __init__(self, block, num_blocks, num_classes=100):\n",
        "        super(ResNet, self).__init__()\n",
        "        self.in_planes = 64\n",
        "\n",
        "        self.conv1 = nn.Conv2d(3, 64, kernel_size=3, stride=1, padding=1, bias=False)\n",
        "        self.bn1 = nn.BatchNorm2d(64)\n",
        "        self.layer1 = self._make_layer(block, 64, num_blocks[0], stride=1)\n",
        "        self.layer2 = self._make_layer(block, 128, num_blocks[1], stride=2)\n",
        "        self.layer3 = self._make_layer(block, 256, num_blocks[2], stride=2)\n",
        "        self.layer4 = self._make_layer(block, 512, num_blocks[3], stride=2)\n",
        "        self.linear = nn.Linear(512*block.expansion, num_classes)\n",
        "\n",
        "    def _make_layer(self, block, planes, num_blocks, stride):\n",
        "        strides = [stride] + [1]*(num_blocks-1)\n",
        "        layers = []\n",
        "        for stride in strides:\n",
        "            layers.append(block(self.in_planes, planes, stride))\n",
        "            self.in_planes = planes * block.expansion\n",
        "        return nn.Sequential(*layers)\n",
        "\n",
        "    def forward(self, x):\n",
        "        out = F.relu(self.bn1(self.conv1(x)))\n",
        "        out = self.layer1(out)\n",
        "        out = self.layer2(out)\n",
        "        out = self.layer3(out)\n",
        "        out = self.layer4(out)\n",
        "        out = F.avg_pool2d(out, 4)\n",
        "        out = out.view(out.size(0), -1)\n",
        "        out = self.linear(out)\n",
        "        return out\n",
        "\n",
        "\n",
        "def ResNet18():\n",
        "    return ResNet(BasicBlock, [2,2,2,2])\n",
        "\n"
      ],
      "execution_count": 1,
      "outputs": []
    },
    {
      "cell_type": "markdown",
      "metadata": {
        "id": "77CXBpRLTQ9S"
      },
      "source": [
        "Utils: Calibration Metrics"
      ]
    },
    {
      "cell_type": "code",
      "metadata": {
        "id": "t5jGehq0TQGi"
      },
      "source": [
        "import os\n",
        "import random\n",
        "import numpy as np\n",
        "import torch\n",
        "\n",
        "def get_ece(preds, targets, n_bins=10, **args):\n",
        "    bin_boundaries = np.linspace(0, 1, n_bins + 1)\n",
        "    bin_lowers = bin_boundaries[:-1]\n",
        "    bin_uppers = bin_boundaries[1:]\n",
        "    \n",
        "    confidences, predictions = np.max(preds, 1), np.argmax(preds, 1)\n",
        "    accuracies = (predictions == targets)\n",
        "    \n",
        "    ece = 0.0\n",
        "    avg_confs_in_bins = []\n",
        "    for bin_lower, bin_upper in zip(bin_lowers, bin_uppers):\n",
        "        in_bin = np.logical_and(confidences > bin_lower, confidences <= bin_upper)\n",
        "        prop_in_bin = np.mean(in_bin)\n",
        "        if prop_in_bin > 0:\n",
        "            accuracy_in_bin = np.mean(accuracies[in_bin])\n",
        "            avg_confidence_in_bin = np.mean(confidences[in_bin])\n",
        "            delta = avg_confidence_in_bin - accuracy_in_bin\n",
        "            avg_confs_in_bins.append(delta)\n",
        "            ece += np.abs(delta) * prop_in_bin\n",
        "        else:\n",
        "            avg_confs_in_bins.append(None)\n",
        "    # For reliability diagrams, also need to return these:\n",
        "    # return ece, bin_lowers, avg_confs_in_bins\n",
        "    return ece\n",
        "\n",
        "def get_sce(preds, targets, n_bins=10, **args):\n",
        "    bin_boundaries = np.linspace(0, 1, n_bins + 1)\n",
        "    bin_lowers = bin_boundaries[:-1]\n",
        "    bin_uppers = bin_boundaries[1:]\n",
        "    \n",
        "    n_objects, n_classes = preds.shape\n",
        "    res = 0.0\n",
        "    for cur_class in range(n_classes):\n",
        "        for bin_lower, bin_upper in zip(bin_lowers, bin_uppers):\n",
        "            cur_class_conf = preds[:, cur_class]\n",
        "            in_bin = np.logical_and(cur_class_conf > bin_lower, cur_class_conf <= bin_upper)\n",
        "\n",
        "            # cur_class_acc is ground truth probability of chosen class being the correct one inside the bin.\n",
        "            # NOT fraction of correct predictions in the bin\n",
        "            # because it is compared with predicted probability\n",
        "            bin_acc = (targets[in_bin] == cur_class)\n",
        "            \n",
        "            bin_conf = cur_class_conf[in_bin]\n",
        "\n",
        "            bin_size = np.sum(in_bin)\n",
        "            \n",
        "            if bin_size > 0:\n",
        "                avg_confidence_in_bin = np.mean(bin_conf)\n",
        "                avg_accuracy_in_bin = np.mean(bin_acc)\n",
        "                delta = np.abs(avg_confidence_in_bin - avg_accuracy_in_bin)\n",
        "#                 print(f'bin size {bin_size}, bin conf {avg_confidence_in_bin}, bin acc {avg_accuracy_in_bin}')\n",
        "                res += delta * bin_size / (n_objects * n_classes)\n",
        "    return res\n",
        "\n",
        "def get_tace(preds, targets, n_bins=15, threshold=1e-3, **args):\n",
        "    n_objects, n_classes = preds.shape\n",
        "    \n",
        "    res = 0.0\n",
        "    for cur_class in range(n_classes):\n",
        "        cur_class_conf = preds[:, cur_class]\n",
        "        \n",
        "        targets_sorted = targets[cur_class_conf.argsort()]\n",
        "        cur_class_conf_sorted = np.sort(cur_class_conf)\n",
        "        \n",
        "        targets_sorted = targets_sorted[cur_class_conf_sorted > threshold]\n",
        "        cur_class_conf_sorted = cur_class_conf_sorted[cur_class_conf_sorted > threshold]\n",
        "        \n",
        "        bin_size = len(cur_class_conf_sorted) // n_bins\n",
        "                \n",
        "        for bin_i in range(n_bins):\n",
        "            bin_start_ind = bin_i * bin_size\n",
        "            if bin_i < n_bins-1:\n",
        "                bin_end_ind = bin_start_ind + bin_size\n",
        "            else:\n",
        "                bin_end_ind = len(targets_sorted)\n",
        "                bin_size = bin_end_ind - bin_start_ind  # extend last bin until the end of prediction array\n",
        "            bin_acc = (targets_sorted[bin_start_ind : bin_end_ind] == cur_class)\n",
        "            bin_conf = cur_class_conf_sorted[bin_start_ind : bin_end_ind]\n",
        "            avg_confidence_in_bin = np.mean(bin_conf)\n",
        "            avg_accuracy_in_bin = np.mean(bin_acc)\n",
        "            delta = np.abs(avg_confidence_in_bin - avg_accuracy_in_bin)\n",
        "#             print(f'bin size {bin_size}, bin conf {avg_confidence_in_bin}, bin acc {avg_accuracy_in_bin}')\n",
        "            res += delta * bin_size / (n_objects * n_classes)\n",
        "            \n",
        "    return res\n",
        "\n",
        "def get_brier(preds, targets, **args):\n",
        "    one_hot_targets = np.zeros(preds.shape)\n",
        "    one_hot_targets[np.arange(len(targets)), targets] = 1.0\n",
        "    return np.mean(np.sum((preds - one_hot_targets) ** 2, axis=1))\n",
        "\n",
        "def ece_eval(preds, targets, n_bins=10, bg_cls = 0):\n",
        "    bin_boundaries = np.linspace(0, 1, n_bins + 1)\n",
        "    bin_lowers = bin_boundaries[:-1]\n",
        "    bin_uppers = bin_boundaries[1:]\n",
        "    confidences, predictions = np.max(preds,1), np.argmax(preds,1)\n",
        "    confidences, predictions = confidences[targets>bg_cls], predictions[targets>bg_cls]\n",
        "    accuracies = (predictions == targets[targets>bg_cls]) \n",
        "    Bm, acc, conf = np.zeros(n_bins), np.zeros(n_bins), np.zeros(n_bins)\n",
        "    ece = 0.0\n",
        "    bin_idx = 0\n",
        "    for bin_lower, bin_upper in zip(bin_lowers, bin_uppers):\n",
        "        in_bin = np.logical_and(confidences > bin_lower, confidences <= bin_upper)\n",
        "        #in_bin = in_bin[targets>backgound_class]\n",
        "        bin_size = np.sum(in_bin)\n",
        "        \n",
        "        Bm[bin_idx] = bin_size\n",
        "        if bin_size > 0:  \n",
        "            accuracy_in_bin = np.sum(accuracies[in_bin])\n",
        "            acc[bin_idx] = accuracy_in_bin / Bm[bin_idx]\n",
        "            confidence_in_bin = np.sum(confidences[in_bin])\n",
        "            conf[bin_idx] = confidence_in_bin / Bm[bin_idx]\n",
        "        bin_idx += 1\n",
        "        \n",
        "    ece_all = Bm * np.abs((acc - conf))/ Bm.sum()\n",
        "    ece = ece_all.sum() \n",
        "    return ece, acc, conf, Bm\n",
        "    \n",
        "\n",
        "def nentr(p, base=None):\n",
        "    \"\"\"\n",
        "    Calculates entropy of p to the base b. If base is None, the natural logarithm is used.\n",
        "    :param p: batches of class label probability distributions (softmax output)\n",
        "    :param base: base b\n",
        "    :return:\n",
        "    \"\"\"\n",
        "    eps = torch.tensor([1e-16], device=p.device)\n",
        "    if base:\n",
        "        base = torch.tensor([base], device=p.device, dtype=torch.float32)\n",
        "        return (p.mul(p.add(eps).log().div(base.log()))).sum(dim=1).abs()\n",
        "    else:\n",
        "        return (p.mul(p.add(eps).log())).sum(dim=1).abs()\n",
        "\n",
        "def uceloss(softmaxes, labels, n_bins=15):\n",
        "    d = softmaxes.device\n",
        "    bin_boundaries = torch.linspace(0, 1, n_bins + 1, device=d)\n",
        "    bin_lowers = bin_boundaries[:-1]\n",
        "    bin_uppers = bin_boundaries[1:]\n",
        "\n",
        "    _, predictions = torch.max(softmaxes, 1)\n",
        "    errors = predictions.ne(labels)\n",
        "    uncertainties = nentr(softmaxes, base=softmaxes.size(1))\n",
        "    errors_in_bin_list = []\n",
        "    avg_entropy_in_bin_list = []\n",
        "\n",
        "    uce = torch.zeros(1)\n",
        "    for bin_lower, bin_upper in zip(bin_lowers, bin_uppers):\n",
        "        # Calculate |uncert - err| in each bin\n",
        "        in_bin = uncertainties.gt(bin_lower.item()) * uncertainties.le(bin_upper.item())\n",
        "        prop_in_bin = in_bin.float().mean()  # |Bm| / n\n",
        "        if prop_in_bin.item() > 0.0:\n",
        "            errors_in_bin = errors[in_bin].float().mean()  # err()\n",
        "            avg_entropy_in_bin = uncertainties[in_bin].mean()  # uncert()\n",
        "            uce += torch.abs(avg_entropy_in_bin - errors_in_bin) * prop_in_bin\n",
        "\n",
        "            errors_in_bin_list.append(errors_in_bin)\n",
        "            avg_entropy_in_bin_list.append(avg_entropy_in_bin)\n",
        "\n",
        "    err_in_bin = torch.tensor(errors_in_bin_list, device=d)\n",
        "    avg_entropy_in_bin = torch.tensor(avg_entropy_in_bin_list, device=d)\n",
        "\n",
        "    return uce#, err_in_bin, avg_entropy_in_bin\n",
        "\n",
        "import matplotlib.pyplot as plt\n",
        "%matplotlib inline\n",
        "\n",
        "def reliability_diagram_multi(conf_avg, acc_avg, legend=None, leg_idx=0, n_bins=10):\n",
        "    plt.figure(2)\n",
        "    plt.plot([0, 1], [0, 1], linestyle='--')\n",
        "    plt.xlabel('Confidence')\n",
        "    plt.ylabel('Accuracy')\n",
        "    plt.xticks(np.arange(0, 1.1, 1/n_bins))\n",
        "    #plt.title(title)\n",
        "    plt.plot(conf_avg[acc_avg>0],acc_avg[acc_avg>0], marker='.', label = legend)\n",
        "    plt.legend()\n",
        "    plt.savefig('ece_rel_{}_imb_{}.png'.format(legend,args.imb_factor),dpi=300)\n",
        "\n",
        "def accuracy_metric(output, target, topk=(1,)):  \n",
        "    with torch.no_grad():\n",
        "        maxk = max(topk)\n",
        "        batch_size = target.size(0)\n",
        "        _, pred = output.topk(maxk, 1, True, True)\n",
        "        pred = pred.t()\n",
        "        correct = pred.eq(target.view(1, -1).expand_as(pred))\n",
        "        res = []\n",
        "        for k in topk:\n",
        "            correct_k = correct[:k].contiguous().view(-1).float().sum(0, keepdim=True)\n",
        "            res.append(correct_k.mul_(100.0 / batch_size))\n",
        "        return res\n",
        "\n",
        "def evaluation_all(model, testloader):\n",
        "    model.eval()\n",
        "    logits_list = []\n",
        "    labels_list = []\n",
        "    correct = 0 \n",
        "    top1_acc, top5_acc = [], []\n",
        "    total = 0\n",
        "    with torch.no_grad():\n",
        "        for batch_idx, (inputs, targets) in enumerate(testloader):\n",
        "            inputs, targets = inputs.to(device), targets.to(device)\n",
        "            outputs = model(inputs)\n",
        "            acc1, acc5 = accuracy_metric(outputs, targets,topk=(1,5))\n",
        "            top1_acc.append(acc1)\n",
        "            top5_acc.append(acc5)\n",
        "            _, predicted = outputs.max(1)\n",
        "            total += targets.size(0)\n",
        "            correct += predicted.eq(targets).sum().item()\n",
        "            outputs = F.softmax(outputs, dim=1)\n",
        "            logits_list.append(outputs)\n",
        "            labels_list.append(targets)\n",
        "    uce = uceloss( torch.cat(logits_list).cpu(), torch.cat(labels_list).cpu())\n",
        "    logits = torch.cat(logits_list).cpu().numpy()\n",
        "    labels = torch.cat(labels_list).cpu().numpy()\n",
        "    ece, acc, conf, Bm = ece_eval(logits, labels, bg_cls=-1)\n",
        "    sce = get_sce(logits, labels)\n",
        "    tace = get_tace(logits, labels)\n",
        "    brier = get_brier(logits, labels)\n",
        "    top1 = torch.cat(top1_acc).mean().item()\n",
        "    top5 = torch.cat(top5_acc).mean().item()\n",
        "    print('%s: accuracy:%0.4f[top1:%.4f, top5:%.4f], ece:%0.4f, sce:%0.4f, tace:%0.4f, brier:%.4f, uce:%.4f' %(model_name, correct / total,top1, top5, ece, sce, tace, brier, uce.item()) )\n",
        "    return ece, acc, conf, Bm\n"
      ],
      "execution_count": 2,
      "outputs": []
    },
    {
      "cell_type": "markdown",
      "metadata": {
        "id": "RvMq8RHSWIyN"
      },
      "source": [
        "Utils: Temperature Scaling"
      ]
    },
    {
      "cell_type": "code",
      "metadata": {
        "id": "OM_HEtoMWMOT"
      },
      "source": [
        "import torch\n",
        "from torch import nn, optim\n",
        "from torch.nn import functional as F\n",
        "\n",
        "class ModelWithTemperature(nn.Module):\n",
        "    def __init__(self, model):\n",
        "        super(ModelWithTemperature, self).__init__()\n",
        "        self.model = model\n",
        "        self.temperature = nn.Parameter(torch.ones(1) * 1.5)\n",
        "\n",
        "    def forward(self, input):\n",
        "        logits = self.model(input)\n",
        "        return self.temperature_scale(logits)\n",
        "\n",
        "    def temperature_scale(self, logits):\n",
        "        # Expand temperature to match the size of logits\n",
        "        temperature = self.temperature.unsqueeze(1).expand(logits.size(0), logits.size(1))\n",
        "        return logits / temperature\n",
        "\n",
        "    # This function probably should live outside of this class, but whatever\n",
        "    def set_temperature(self, valid_loader):\n",
        "        self.cuda()\n",
        "        ece_criterion = _ECELoss().cuda()\n",
        "        nll_criterion = nn.CrossEntropyLoss().cuda()\n",
        "\n",
        "        # First: collect all the logits and labels for the validation set\n",
        "        logits_list = []\n",
        "        labels_list = []\n",
        "        with torch.no_grad():\n",
        "            for input, label in valid_loader:\n",
        "                input = input.cuda()\n",
        "                logits = self.model(input)\n",
        "                logits_list.append(logits)\n",
        "                labels_list.append(label)\n",
        "            logits = torch.cat(logits_list).cuda()\n",
        "            labels = torch.cat(labels_list).cuda()\n",
        "\n",
        "        # Next: optimize the temperature w.r.t. NLL\n",
        "        init_temp = self.temperature.clone()\n",
        "        optimizer = optim.LBFGS([self.temperature], lr=0.01, max_iter=50)\n",
        "\n",
        "        def eval():\n",
        "            loss = nll_criterion(self.temperature_scale(logits), labels)\n",
        "            loss.backward()\n",
        "            return loss\n",
        "        optimizer.step(eval)\n",
        "        return self\n",
        "\n",
        "class _ECELoss(nn.Module):\n",
        "    def __init__(self, n_bins=15):\n",
        "        \"\"\"\n",
        "        n_bins (int): number of confidence interval bins\n",
        "        \"\"\"\n",
        "        super(_ECELoss, self).__init__()\n",
        "        bin_boundaries = torch.linspace(0, 1, n_bins + 1)\n",
        "        self.bin_lowers = bin_boundaries[:-1]\n",
        "        self.bin_uppers = bin_boundaries[1:]\n",
        "\n",
        "    def forward(self, logits, labels):\n",
        "        softmaxes = F.softmax(logits, dim=1)\n",
        "        confidences, predictions = torch.max(softmaxes, 1)\n",
        "        accuracies = predictions.eq(labels)\n",
        "        ece = torch.zeros(1, device=logits.device)\n",
        "        for bin_lower, bin_upper in zip(self.bin_lowers, self.bin_uppers):\n",
        "            in_bin = confidences.gt(bin_lower.item()) * confidences.le(bin_upper.item())\n",
        "            prop_in_bin = in_bin.float().mean()\n",
        "            if prop_in_bin.item() > 0:\n",
        "                accuracy_in_bin = accuracies[in_bin].float().mean()\n",
        "                avg_confidence_in_bin = confidences[in_bin].mean()\n",
        "                ece += torch.abs(avg_confidence_in_bin - accuracy_in_bin) * prop_in_bin\n",
        "\n",
        "        return ece\n",
        "    \n",
        "def evaluation(model, test_loader, temp=1):\n",
        "    model.eval()\n",
        "    criterion = torch.nn.CrossEntropyLoss().to(device)\n",
        "    test_loss = 0\n",
        "    correct = 0\n",
        "    total = 0\n",
        "    logits_list = []\n",
        "    labels_list = []\n",
        "    with torch.no_grad():\n",
        "        for batch_idx, (inputs, targets) in enumerate(test_loader):\n",
        "            inputs, targets = inputs.to(device), targets.to(device)\n",
        "            logits = model(inputs)\n",
        "            logits = logits/temp\n",
        "            logits_list.append(logits)\n",
        "            labels_list.append(targets)\n",
        "            loss = criterion(logits, targets)\n",
        "            test_loss += loss.item()\n",
        "            _, predicted = logits.max(1)\n",
        "            total += targets.size(0)\n",
        "            correct += predicted.eq(targets).sum().item()\n",
        "    logits_all = torch.cat(logits_list).cuda()\n",
        "    labels_all = torch.cat(labels_list).cuda()\n",
        "    return test_loss/(batch_idx+1), 100.*correct/total, logits_all, labels_all"
      ],
      "execution_count": 3,
      "outputs": []
    },
    {
      "cell_type": "markdown",
      "metadata": {
        "id": "3sviQ4ymR4td"
      },
      "source": [
        "Dataset:CIFAR-LT"
      ]
    },
    {
      "cell_type": "code",
      "metadata": {
        "id": "8NdmRH2QRjGB"
      },
      "source": [
        "import torch\n",
        "import torchvision\n",
        "import torchvision.transforms as transforms\n",
        "import numpy as np\n",
        "\n",
        "class IMBALANCECIFAR10(torchvision.datasets.CIFAR10):\n",
        "    cls_num = 10\n",
        "\n",
        "    def __init__(self, root, imb_type='exp', imb_factor=0.01, rand_number=0, train=True,\n",
        "                 transform=None, target_transform=None,\n",
        "                 download=False):\n",
        "        super(IMBALANCECIFAR10, self).__init__(root, train, transform, target_transform, download)\n",
        "        np.random.seed(rand_number)\n",
        "        img_num_list = self.get_img_num_per_cls(self.cls_num, imb_type, imb_factor)\n",
        "        self.gen_imbalanced_data(img_num_list)\n",
        "\n",
        "    def get_img_num_per_cls(self, cls_num, imb_type, imb_factor):\n",
        "        img_max = len(self.data) / cls_num\n",
        "        img_num_per_cls = []\n",
        "        if imb_type == 'exp':\n",
        "            for cls_idx in range(cls_num):\n",
        "                num = img_max * (imb_factor**(cls_idx / (cls_num - 1.0)))\n",
        "                img_num_per_cls.append(int(num))\n",
        "        elif imb_type == 'step':\n",
        "            for cls_idx in range(cls_num // 2):\n",
        "                img_num_per_cls.append(int(img_max))\n",
        "            for cls_idx in range(cls_num // 2):\n",
        "                img_num_per_cls.append(int(img_max * imb_factor))\n",
        "        else:\n",
        "            img_num_per_cls.extend([int(img_max)] * cls_num)\n",
        "        return img_num_per_cls\n",
        "\n",
        "    def gen_imbalanced_data(self, img_num_per_cls):\n",
        "        new_data = []\n",
        "        new_targets = []\n",
        "        targets_np = np.array(self.targets, dtype=np.int64)\n",
        "        classes = np.unique(targets_np)\n",
        "        self.num_per_cls_dict = dict()\n",
        "        for the_class, the_img_num in zip(classes, img_num_per_cls):\n",
        "            self.num_per_cls_dict[the_class] = the_img_num\n",
        "            idx = np.where(targets_np == the_class)[0]\n",
        "            np.random.shuffle(idx)\n",
        "            selec_idx = idx[:the_img_num]\n",
        "            new_data.append(self.data[selec_idx, ...])\n",
        "            new_targets.extend([the_class, ] * the_img_num)\n",
        "        new_data = np.vstack(new_data)\n",
        "        self.data = new_data\n",
        "        self.targets = new_targets\n",
        "        \n",
        "    def get_cls_num_list(self):\n",
        "        cls_num_list = []\n",
        "        for i in range(self.cls_num):\n",
        "            cls_num_list.append(self.num_per_cls_dict[i])\n",
        "        return cls_num_list\n",
        "\n",
        "class IMBALANCECIFAR100(IMBALANCECIFAR10):\n",
        "    \"\"\"`CIFAR100 <https://www.cs.toronto.edu/~kriz/cifar.html>`_ Dataset.\n",
        "    This is a subclass of the `CIFAR10` Dataset.\n",
        "    \"\"\"\n",
        "    base_folder = 'cifar-100-python'\n",
        "    url = \"https://www.cs.toronto.edu/~kriz/cifar-100-python.tar.gz\"\n",
        "    filename = \"cifar-100-python.tar.gz\"\n",
        "    tgz_md5 = 'eb9058c3a382ffc7106e4002c42a8d85'\n",
        "    train_list = [\n",
        "        ['train', '16019d7e3df5f24257cddd939b257f8d'],\n",
        "    ]\n",
        "\n",
        "    test_list = [\n",
        "        ['test', 'f0ef6b0ae62326f3e7ffdfab6717acfc'],\n",
        "    ]\n",
        "    meta = {\n",
        "        'filename': 'meta',\n",
        "        'key': 'fine_label_names',\n",
        "        'md5': '7973b15100ade9c7d40fb424638fde48',\n",
        "    }\n",
        "    cls_num = 100"
      ],
      "execution_count": 4,
      "outputs": []
    },
    {
      "cell_type": "markdown",
      "metadata": {
        "id": "xzbMmD3tS7-K"
      },
      "source": [
        "Main"
      ]
    },
    {
      "cell_type": "code",
      "metadata": {
        "id": "t8mouItJS9Bk",
        "colab": {
          "base_uri": "https://localhost:8080/"
        },
        "outputId": "63159e55-98c4-49f9-8c5b-f1f0af5467a6"
      },
      "source": [
        "import torch\n",
        "import torch.nn as nn\n",
        "import torch.optim as optim\n",
        "import torch.nn.functional as F\n",
        "import torch.backends.cudnn as cudnn\n",
        "import torchvision\n",
        "import torchvision.transforms as transforms\n",
        "import os\n",
        "import argparse\n",
        "import copy\n",
        "import random\n",
        "import numpy as np\n",
        "device = 'cuda' if torch.cuda.is_available() else 'cpu'\n",
        "def seed_everything(seed=4321):\n",
        "  random.seed(seed)\n",
        "  torch.manual_seed(seed)\n",
        "  torch.cuda.manual_seed_all(seed)\n",
        "  np.random.seed(seed)\n",
        "  os.environ['PYTHONHASHSEED'] = str(seed)\n",
        "  torch.backends.cudnn.deterministic = True\n",
        "  torch.backends.cudnn.benchmark = False\n",
        "\n",
        "parser = argparse.ArgumentParser(description='PyTorch CIFAR10 Training')\n",
        "parser.add_argument('--lr', default=0.1, type=float, help='learning rate')\n",
        "parser.add_argument('--ls_factor', default=0.1, type=float, help='smoothing factor')\n",
        "parser.add_argument('--imb_factor', default=0.01, type=float, help='Imbalanced factor')\n",
        "parser.add_argument('--lr_schedule', default=0, type=int, help='lr scheduler')\n",
        "parser.add_argument('--num_classes', type=int, default=100)\n",
        "parser.add_argument('--num_epochs', type=int, default=200)\n",
        "parser.add_argument('--mode', default='LS', help='[CE, LS, CLS]')\n",
        "args = parser.parse_args(args=[])\n",
        "\n",
        "seed_everything()\n",
        "transform_train = transforms.Compose([transforms.RandomCrop(32, padding=4),\n",
        "    transforms.RandomHorizontalFlip(),transforms.ToTensor(),\n",
        "    transforms.Normalize((0.4914, 0.4822, 0.4465), (0.2023, 0.1994, 0.2010)),])\n",
        "\n",
        "transform_val = transforms.Compose([transforms.ToTensor(),\n",
        "    transforms.Normalize((0.4914, 0.4822, 0.4465), (0.2023, 0.1994, 0.2010)),])\n",
        "\n",
        "train_dataset = IMBALANCECIFAR100(root='./data', imb_type='exp', imb_factor=args.imb_factor, rand_number=0, train=True, download=True, transform=transform_train)\n",
        "val_dataset = torchvision.datasets.CIFAR100(root='./data', train=False, download=True, transform=transform_val)\n",
        "testloader = torch.utils.data.DataLoader(val_dataset, batch_size=2048, shuffle=False,num_workers=2, pin_memory=True)\n"
      ],
      "execution_count": 6,
      "outputs": [
        {
          "output_type": "stream",
          "text": [
            "Files already downloaded and verified\n",
            "Files already downloaded and verified\n"
          ],
          "name": "stdout"
        }
      ]
    },
    {
      "cell_type": "markdown",
      "metadata": {
        "id": "9JLR5qfmWq1E"
      },
      "source": [
        "Download train models"
      ]
    },
    {
      "cell_type": "code",
      "metadata": {
        "colab": {
          "base_uri": "https://localhost:8080/"
        },
        "id": "X3ylJnXqWxgv",
        "outputId": "68cac38a-c246-44e2-af44-c74194b61bfd"
      },
      "source": [
        "!pip install -U -q PyDrive\n",
        "from pydrive.auth import GoogleAuth\n",
        "from pydrive.drive import GoogleDrive\n",
        "from google.colab import auth\n",
        "from oauth2client.client import GoogleCredentials\n",
        "\n",
        "# Authenticate and create the PyDrive client.\n",
        "auth.authenticate_user()\n",
        "gauth = GoogleAuth()\n",
        "gauth.credentials = GoogleCredentials.get_application_default()\n",
        "drive = GoogleDrive(gauth)\n",
        "\n",
        "id = ['15ScCDPfFPJCny0GfQ1CKYmkC_S3uiIxi']\n",
        "downloaded = drive.CreateFile({'id':id[0]}) \n",
        "downloaded.GetContentFile('ckpts.zip')\n",
        "!unzip ckpts.zip"
      ],
      "execution_count": 7,
      "outputs": [
        {
          "output_type": "stream",
          "text": [
            "Archive:  ckpts.zip\n",
            "   creating: CIFAR_LT0.1_LS0.1/\n",
            "  inflating: CIFAR_LT0.1_LS0.1/best_model_lt0.1_LS_0.1.pth.tar  \n",
            "  inflating: CIFAR_LT0.1_LS0.1/best_model_lt0.1_CLS_0.1.pth.tar  \n",
            "  inflating: CIFAR_LT0.1_LS0.1/best_model_lt0.1_LS_0.0.pth.tar  \n",
            "   creating: CIFAR_LT0.01_LS0.1/\n",
            "  inflating: CIFAR_LT0.01_LS0.1/best_model_lt0.01_LS_0.1.pth.tar  \n",
            "  inflating: CIFAR_LT0.01_LS0.1/best_model_lt0.01_CLS_0.1.pth.tar  \n",
            "  inflating: CIFAR_LT0.01_LS0.1/best_model_lt0.01_LS_0.0.pth.tar  \n",
            "   creating: ckpt_sd_final0.1/\n",
            "  inflating: ckpt_sd_final0.1/best_model_lt0.1_CTS_T_4.09_170.pth.tar  \n",
            "  inflating: ckpt_sd_final0.1/best_model_lt0.1_CTS_T_1.651_189.pth.tar  \n",
            "  inflating: ckpt_sd_final0.1/best_model_lt0.1_SD_T_1.551_188.pth.tar  \n",
            "  inflating: ckpt_sd_final0.1/best_model_lt0.1_LS_0.0.pth.tar  \n",
            "   creating: ckpt_sd_final0.01/\n",
            "  inflating: ckpt_sd_final0.01/best_model_lt0.01_CTS_T_4.09_299.pth.tar  \n",
            "  inflating: ckpt_sd_final0.01/best_model_lt0.01_SD_T_4.0_168.pth.tar  \n",
            "  inflating: ckpt_sd_final0.01/best_model_lt0.01_SD_T_2.0147_263.pth.tar  \n",
            "  inflating: ckpt_sd_final0.01/best_model_lt0.01_LS_0.0.pth.tar  \n"
          ],
          "name": "stdout"
        }
      ]
    },
    {
      "cell_type": "markdown",
      "metadata": {
        "id": "rgC2xtm2nXT9"
      },
      "source": [
        "Frequancy plots:"
      ]
    },
    {
      "cell_type": "code",
      "metadata": {
        "colab": {
          "base_uri": "https://localhost:8080/",
          "height": 596
        },
        "id": "GXRXlSZgnbTO",
        "outputId": "ca09648e-f42b-4602-ec19-8412426b393b"
      },
      "source": [
        "import matplotlib.pyplot as plt\n",
        "%matplotlib inline\n",
        "train_dataset = IMBALANCECIFAR100(root='./data', imb_type='exp', imb_factor=0.01, rand_number=0, train=True, download=True, transform=transform_train)\n",
        "cls_freq = train_dataset.get_cls_num_list()\n",
        "cls_freq = np.array(cls_freq)\n",
        "\n",
        "model = ResNet18().to(device)\n",
        "ckpt_dir = os.path.join('CIFAR_LT0.01_LS0.1/best_model_lt0.01_LS_0.0.pth.tar')\n",
        "model.load_state_dict(torch.load(ckpt_dir))\n",
        "model.eval()\n",
        "conf_list = np.zeros(100)\n",
        "total, correct = 0, 0\n",
        "with torch.no_grad():\n",
        "    for batch_idx, (inputs, targets) in enumerate(testloader):\n",
        "        inputs, targets = inputs.to(device), targets.to(device)\n",
        "        logits = model(inputs)\n",
        "        softmaxes = F.softmax(logits, dim=1)\n",
        "        confidences, predictions = torch.max(softmaxes, 1)\n",
        "        accuracies = predictions.eq(targets)\n",
        "        total += targets.size(0)\n",
        "        correct += predictions.eq(targets).sum().item()\n",
        "        #print(confidences.max(),accuracies)\n",
        "        for i in range(len(targets)):\n",
        "            conf_list[targets[i]] += confidences[i]\n",
        "print('Acc:',correct*100/total)\n",
        "\n",
        "plt.figure(1)\n",
        "plt.title('class distribution')\n",
        "plt.bar(np.arange(len(cls_freq)),cls_freq)\n",
        "plt.figure(2)\n",
        "plt.title('confidence score distribution')\n",
        "plt.bar(np.arange(len(cls_freq)),conf_list/100)\n",
        "\n",
        "plt.savefig('cifar_lt0.01.pdf', dpi=300)"
      ],
      "execution_count": 14,
      "outputs": [
        {
          "output_type": "stream",
          "text": [
            "Files already downloaded and verified\n",
            "Acc: 38.57\n"
          ],
          "name": "stdout"
        },
        {
          "output_type": "execute_result",
          "data": {
            "text/plain": [
              "<BarContainer object of 100 artists>"
            ]
          },
          "metadata": {
            "tags": []
          },
          "execution_count": 14
        },
        {
          "output_type": "display_data",
          "data": {
            "image/png": "[encoded data removed]",
            "text/plain": [
              "<Figure size 432x288 with 1 Axes>"
            ]
          },
          "metadata": {
            "tags": [],
            "needs_background": "light"
          }
        },
        {
          "output_type": "display_data",
          "data": {
            "image/png": "[encoded data removed]",
            "text/plain": [
              "<Figure size 432x288 with 1 Axes>"
            ]
          },
          "metadata": {
            "tags": [],
            "needs_background": "light"
          }
        }
      ]
    },
    {
      "cell_type": "markdown",
      "metadata": {
        "id": "NJOaMHLoW448"
      },
      "source": [
        "## Evaluation: CDA-TS (ratio: 10)"
      ]
    },
    {
      "cell_type": "code",
      "metadata": {
        "colab": {
          "base_uri": "https://localhost:8080/",
          "height": 213,
          "referenced_widgets": [
            "2420ce1ad5d9482c8e8122b263debd4b",
            "defd45d9969d48d89ad13337773dcbfd",
            "36b10aac59ad43049b1afb85413ae9ca",
            "716e1988572845a1a1362eec0161de64",
            "ac5d046fb1d14f03b279cc86cc3ad972",
            "19c5f7cc66784d3f9980e800893044da",
            "93423970b0ba44d4a4b0de64481a2428",
            "31e9df5a60254d939059cd8ca6bd225b"
          ]
        },
        "id": "oxQVvqfJXFy0",
        "outputId": "d917820f-5ac7-463c-8437-6b5184a94fe0"
      },
      "source": [
        "args.imb_factor = 0.1\n",
        "seed_everything()\n",
        "train_dataset = IMBALANCECIFAR100(root='./data', imb_type='exp', imb_factor=args.imb_factor, rand_number=0, train=True, download=True, transform=transform_train)\n",
        "\n",
        "model = ResNet18().to(device)\n",
        "model_dir = 'CIFAR_LT0.1_LS0.1/best_model_lt0.1_LS_0.0.pth.tar'\n",
        "model.load_state_dict(torch.load(model_dir))\n",
        "model.eval()\n",
        "ece_criterion = _ECELoss().to(device)\n",
        "\n",
        "loss, acc, logits_all, labels_all = evaluation(model, testloader, temp=1)\n",
        "temperature_ece = ece_criterion(logits_all, labels_all).item()\n",
        "print('Before TS- loss:%.3f, acc:%.3f, bef ece:%.5f'%(loss, acc,temperature_ece))\n",
        "\n",
        "model_ts = ModelWithTemperature(model)\n",
        "model_ts.set_temperature(testloader)\n",
        "loss, acc, logits_all_ts, labels_all_ts = evaluation(model_ts, testloader)\n",
        "temperature_ece = ece_criterion(logits_all_ts, labels_all_ts).item()\n",
        "print('After TS- loss:%.3f, acc:%.3f, aft ece:%.5f'%(loss, acc,temperature_ece))\n",
        "print('Optimal Temperature:%.4f'%model_ts.temperature.item())\n",
        "\n",
        "#CDA-TS calculation\n",
        "cls_freq = train_dataset.get_cls_num_list()\n",
        "cls_freq_norm = cls_freq/np.max(cls_freq)\n",
        "cls_freq_norm = torch.tensor(cls_freq_norm).float()\n",
        "temp = model_ts.temperature.item() + cls_freq_norm*0.1\n",
        "temp = temp.to(device)\n",
        "loss, acc, logits_all_cts, labels_all_cts = evaluation(model, testloader, temp=temp)\n",
        "temperature_ece = ece_criterion(logits_all_cts, labels_all_cts).item()\n",
        "print('After Class-aware TS- loss:%.3f, acc:%.3f, aft ece:%.5f'%(loss, acc,temperature_ece))"
      ],
      "execution_count": null,
      "outputs": [
        {
          "output_type": "stream",
          "text": [
            "Downloading https://www.cs.toronto.edu/~kriz/cifar-100-python.tar.gz to ./data/cifar-100-python.tar.gz\n"
          ],
          "name": "stdout"
        },
        {
          "output_type": "display_data",
          "data": {
            "application/vnd.jupyter.widget-view+json": {
              "model_id": "2420ce1ad5d9482c8e8122b263debd4b",
              "version_minor": 0,
              "version_major": 2
            },
            "text/plain": [
              "HBox(children=(FloatProgress(value=1.0, bar_style='info', max=1.0), HTML(value='')))"
            ]
          },
          "metadata": {
            "tags": []
          }
        },
        {
          "output_type": "stream",
          "text": [
            "Extracting ./data/cifar-100-python.tar.gz to ./data\n",
            "Files already downloaded and verified\n",
            "Files already downloaded and verified\n",
            "Before TS- loss:1.925, acc:57.600, bef ece:0.18007\n",
            "After TS- loss:1.698, acc:57.600, aft ece:0.04287\n",
            "Optimal Temperature:1.5510\n",
            "After Class-aware TS- loss:1.682, acc:57.930, aft ece:0.03480\n"
          ],
          "name": "stdout"
        }
      ]
    },
    {
      "cell_type": "markdown",
      "metadata": {
        "id": "kJBLPekjYfxK"
      },
      "source": [
        "Reliability Diagram"
      ]
    },
    {
      "cell_type": "code",
      "metadata": {
        "colab": {
          "base_uri": "https://localhost:8080/",
          "height": 333
        },
        "id": "9ZNBVID9YR9U",
        "outputId": "99b9091f-faea-430b-a802-138968464449"
      },
      "source": [
        "import matplotlib.pyplot as plt\n",
        "%matplotlib inline\n",
        "\n",
        "def reliability_diagram_multi(conf_avg, acc_avg, legend=None, leg_idx=0, n_bins=10):\n",
        "    plt.figure(2)\n",
        "    plt.plot([0, 1], [0, 1], linestyle='--')\n",
        "    plt.xlabel('Confidence')\n",
        "    plt.ylabel('Accuracy')\n",
        "    plt.xticks(np.arange(0, 1.1, 1/n_bins))\n",
        "    #plt.title(title)\n",
        "    plt.plot(conf_avg[acc_avg>0],acc_avg[acc_avg>0], marker='.', label = legend)\n",
        "    plt.legend()\n",
        "    plt.savefig('ece_rel_CDA_TS_imb_{}.png'.format(args.imb_factor),dpi=300)\n",
        "\n",
        "def calibration_metrics(logits_all, labels_all, model_name='Class-aware TS'):\n",
        "    uce = uceloss( logits_all.cpu(), labels_all.cpu())\n",
        "    logits = logits_all.detach().cpu().numpy()\n",
        "    labels = labels_all.detach().cpu().numpy()\n",
        "    ece, acc, conf, Bm = ece_eval(logits, labels, bg_cls=-1)\n",
        "    sce = get_sce(logits, labels)\n",
        "    tace = get_tace(logits, labels)\n",
        "    brier = get_brier(logits, labels)\n",
        "    print('%s:, ece:%0.4f, sce:%0.4f, tace:%0.4f, brier:%.4f, uce:%.4f' %(model_name, ece, sce, tace, brier, uce.item()) )\n",
        "    reliability_diagram_multi(conf, acc, legend=model_name)\n",
        "\n",
        "logits_all_sm = F.softmax(logits_all_cts, dim=1)\n",
        "calibration_metrics(logits_all_sm, labels_all_cts, model_name='CDA-TS')\n",
        "\n",
        "logits_all_sm = F.softmax(logits_all_ts, dim=1)\n",
        "calibration_metrics(logits_all_sm, labels_all_ts, model_name='TS')\n",
        "\n",
        "logits_all_sm = F.softmax(logits_all, dim=1)\n",
        "calibration_metrics(logits_all_sm, labels_all, model_name='CE')"
      ],
      "execution_count": null,
      "outputs": [
        {
          "output_type": "stream",
          "text": [
            "CDA-TS:, ece:0.0356, sce:0.0032, tace:0.0033, brier:0.5593, uce:0.0305\n",
            "TS:, ece:0.0425, sce:0.0034, tace:0.0035, brier:0.5656, uce:0.0502\n",
            "CE:, ece:0.1801, sce:0.0047, tace:0.0043, brier:0.6115, uce:0.2344\n"
          ],
          "name": "stdout"
        },
        {
          "output_type": "display_data",
          "data": {
            "image/png": "[encoded data removed]",
            "text/plain": [
              "<Figure size 432x288 with 1 Axes>"
            ]
          },
          "metadata": {
            "tags": [],
            "needs_background": "light"
          }
        }
      ]
    },
    {
      "cell_type": "markdown",
      "metadata": {
        "id": "qSQQQlmyX2HF"
      },
      "source": [
        "### Evaluation: CDA-TS (ratio: 100)"
      ]
    },
    {
      "cell_type": "code",
      "metadata": {
        "colab": {
          "base_uri": "https://localhost:8080/"
        },
        "id": "8TGwG4N9X5nn",
        "outputId": "b068abfb-832e-4f99-a57a-5b400e11b0d7"
      },
      "source": [
        "args.imb_factor = 0.01\n",
        "seed_everything()\n",
        "train_dataset = IMBALANCECIFAR100(root='./data', imb_type='exp', imb_factor=args.imb_factor, rand_number=0, train=True, download=True, transform=transform_train)\n",
        "\n",
        "model = ResNet18().to(device)\n",
        "model_dir = 'CIFAR_LT0.01_LS0.1/best_model_lt0.01_LS_0.0.pth.tar'\n",
        "model.load_state_dict(torch.load(model_dir))\n",
        "model.eval()\n",
        "ece_criterion = _ECELoss().to(device)\n",
        "\n",
        "loss, acc, logits_all, labels_all = evaluation(model, testloader, temp=1)\n",
        "temperature_ece = ece_criterion(logits_all, labels_all).item()\n",
        "print('Before TS- loss:%.3f, acc:%.3f, bef ece:%.5f'%(loss, acc,temperature_ece))\n",
        "\n",
        "model_ts = ModelWithTemperature(model)\n",
        "model_ts.set_temperature(testloader)\n",
        "loss, acc, logits_all_ts, labels_all_ts = evaluation(model_ts, testloader)\n",
        "temperature_ece = ece_criterion(logits_all_ts, labels_all_ts).item()\n",
        "print('After TS- loss:%.3f, acc:%.3f, aft ece:%.5f'%(loss, acc,temperature_ece))\n",
        "print('Optimal Temperature:%.4f'%model_ts.temperature.item())\n",
        "\n",
        "cls_freq = train_dataset.get_cls_num_list()\n",
        "cls_freq_norm = cls_freq/np.max(cls_freq)\n",
        "cls_freq_norm = torch.tensor(cls_freq_norm).float()\n",
        "temp = model_ts.temperature.item() + cls_freq_norm*0.1\n",
        "temp = temp.to(device)\n",
        "loss, acc, logits_all_cts, labels_all_cts = evaluation(model, testloader, temp=temp)\n",
        "temperature_ece = ece_criterion(logits_all_cts, labels_all_cts).item()\n",
        "print('After Class-aware TS- loss:%.3f, acc:%.3f, aft ece:%.5f'%(loss, acc,temperature_ece))"
      ],
      "execution_count": null,
      "outputs": [
        {
          "output_type": "stream",
          "text": [
            "Files already downloaded and verified\n",
            "Before TS- loss:3.183, acc:38.570, bef ece:0.32799\n",
            "After TS- loss:2.541, acc:38.570, aft ece:0.03658\n",
            "Optimal Temperature:2.0147\n",
            "After Class-aware TS- loss:2.527, acc:38.900, aft ece:0.03079\n"
          ],
          "name": "stdout"
        }
      ]
    },
    {
      "cell_type": "markdown",
      "metadata": {
        "id": "eZivz3sBYkvY"
      },
      "source": [
        "Reliability Diagram"
      ]
    },
    {
      "cell_type": "code",
      "metadata": {
        "colab": {
          "base_uri": "https://localhost:8080/",
          "height": 333
        },
        "id": "woXcffRnYcCR",
        "outputId": "2ee4be6f-ace4-44d6-d206-420ac3aaba83"
      },
      "source": [
        "import matplotlib.pyplot as plt\n",
        "%matplotlib inline\n",
        "\n",
        "def reliability_diagram_multi(conf_avg, acc_avg, legend=None, leg_idx=0, n_bins=10):\n",
        "    plt.figure(2)\n",
        "    plt.plot([0, 1], [0, 1], linestyle='--')\n",
        "    plt.xlabel('Confidence')\n",
        "    plt.ylabel('Accuracy')\n",
        "    plt.xticks(np.arange(0, 1.1, 1/n_bins))\n",
        "    #plt.title(title)\n",
        "    plt.plot(conf_avg[acc_avg>0],acc_avg[acc_avg>0], marker='.', label = legend)\n",
        "    plt.legend()\n",
        "    plt.savefig('ece_rel_CDA_TS_imb_{}.png'.format(args.imb_factor),dpi=300)\n",
        "\n",
        "def calibration_metrics(logits_all, labels_all, model_name='Class-aware TS'):\n",
        "    uce = uceloss( logits_all.cpu(), labels_all.cpu())\n",
        "    logits = logits_all.detach().cpu().numpy()\n",
        "    labels = labels_all.detach().cpu().numpy()\n",
        "    ece, acc, conf, Bm = ece_eval(logits, labels, bg_cls=-1)\n",
        "    sce = get_sce(logits, labels)\n",
        "    tace = get_tace(logits, labels)\n",
        "    brier = get_brier(logits, labels)\n",
        "    print('%s:, ece:%0.4f, sce:%0.4f, tace:%0.4f, brier:%.4f, uce:%.4f' %(model_name, ece, sce, tace, brier, uce.item()) )\n",
        "    reliability_diagram_multi(conf, acc, legend=model_name)\n",
        "\n",
        "logits_all_sm = F.softmax(logits_all_cts, dim=1)\n",
        "calibration_metrics(logits_all_sm, labels_all_cts, model_name='CDA-TS')\n",
        "\n",
        "logits_all_sm = F.softmax(logits_all_ts, dim=1)\n",
        "calibration_metrics(logits_all_sm, labels_all_ts, model_name='TS')\n",
        "\n",
        "logits_all_sm = F.softmax(logits_all, dim=1)\n",
        "calibration_metrics(logits_all_sm, labels_all, model_name='CE')"
      ],
      "execution_count": null,
      "outputs": [
        {
          "output_type": "stream",
          "text": [
            "CDA-TS:, ece:0.0280, sce:0.0046, tace:0.0055, brier:0.7526, uce:0.0099\n",
            "TS:, ece:0.0372, sce:0.0047, tace:0.0056, brier:0.7580, uce:0.0194\n",
            "CE:, ece:0.3280, sce:0.0082, tace:0.0071, brier:0.8976, uce:0.3892\n"
          ],
          "name": "stdout"
        },
        {
          "output_type": "display_data",
          "data": {
            "image/png": "[encoded data removed]",
            "text/plain": [
              "<Figure size 432x288 with 1 Axes>"
            ]
          },
          "metadata": {
            "tags": [],
            "needs_background": "light"
          }
        }
      ]
    },
    {
      "cell_type": "markdown",
      "metadata": {
        "id": "ubam4sE_T8HJ"
      },
      "source": [
        "## Evaluation: CDA-LS (ratio: 10)"
      ]
    },
    {
      "cell_type": "code",
      "metadata": {
        "colab": {
          "base_uri": "https://localhost:8080/",
          "height": 371
        },
        "id": "ES04wMsxVSe7",
        "outputId": "d493056a-583d-4df3-e787-7c3261370bca"
      },
      "source": [
        "seed_everything()\n",
        "args.imb_factor = 0.1\n",
        "print('Results for CIFAR_LT:10')\n",
        "ckpt_list = ['best_model_lt0.1_CLS_0.1.pth.tar', 'best_model_lt0.1_LS_0.1.pth.tar', 'best_model_lt0.1_LS_0.0.pth.tar']\n",
        "Legend = ['CDA-LS', 'LS', 'CE']\n",
        "for idx in range(len(ckpt_list)):\n",
        "    model = ResNet18().to(device)\n",
        "    ckpt_dir = 'CIFAR_LT0.1_LS0.1/'+ckpt_list[idx]\n",
        "    model.load_state_dict(torch.load(ckpt_dir))\n",
        "    model.eval()\n",
        "    model_name = Legend[idx]\n",
        "    ece_avg, acc_bin, conf_bin, Bm = evaluation_all(model, testloader)\n",
        "    reliability_diagram_multi(conf_bin, acc_bin, legend=Legend[idx])"
      ],
      "execution_count": null,
      "outputs": [
        {
          "output_type": "stream",
          "text": [
            "Results for CIFAR_LT:10\n",
            "CDA-LS: accuracy:0.5835[top1:58.3630, top5:81.9594], ece:0.0782, sce:0.0040, tace:0.0053, brier:0.5679, uce:0.1375\n",
            "LS: accuracy:0.5798[top1:58.0004, top5:81.6003], ece:0.0918, sce:0.0039, tace:0.0052, brier:0.5729, uce:0.1530\n",
            "CE: accuracy:0.5760[top1:57.6513, top5:83.0928], ece:0.1801, sce:0.0047, tace:0.0043, brier:0.6115, uce:0.2344\n"
          ],
          "name": "stdout"
        },
        {
          "output_type": "display_data",
          "data": {
            "image/png": "[encoded data removed]",
            "text/plain": [
              "<Figure size 432x288 with 1 Axes>"
            ]
          },
          "metadata": {
            "tags": [],
            "needs_background": "light"
          }
        }
      ]
    },
    {
      "cell_type": "markdown",
      "metadata": {
        "id": "3yvBmVQYVnNM"
      },
      "source": [
        "## Evaluation: CDA-LS (ratio: 100)"
      ]
    },
    {
      "cell_type": "code",
      "metadata": {
        "colab": {
          "base_uri": "https://localhost:8080/",
          "height": 371
        },
        "id": "50SZzJHjVoVV",
        "outputId": "675e3413-5c65-4d8b-b1fe-b474aca3a1af"
      },
      "source": [
        "seed_everything()\n",
        "args.imb_factor = 0.01\n",
        "print('Results for CIFAR_LT:100')\n",
        "ckpt_list = ['best_model_lt0.01_CLS_0.1.pth.tar', 'best_model_lt0.01_LS_0.1.pth.tar', 'best_model_lt0.01_LS_0.0.pth.tar']\n",
        "Legend = ['CDA-LS', 'LS', 'CE']\n",
        "for idx in range(len(ckpt_list)):\n",
        "    model = ResNet18().to(device)\n",
        "    ckpt_dir = 'CIFAR_LT0.01_LS0.1/'+ckpt_list[idx]\n",
        "    model.load_state_dict(torch.load(ckpt_dir))\n",
        "    model.eval()\n",
        "    model_name = Legend[idx]\n",
        "    ece_avg, acc_bin, conf_bin, Bm = evaluation_all(model, testloader)\n",
        "    reliability_diagram_multi(conf_bin, acc_bin, legend=Legend[idx])"
      ],
      "execution_count": null,
      "outputs": [
        {
          "output_type": "stream",
          "text": [
            "Results for CIFAR_LT:100\n",
            "CDA-LS: accuracy:0.3794[top1:37.9439, top5:60.7775], ece:0.0381, sce:0.0051, tace:0.0065, brier:0.7721, uce:0.0477\n",
            "LS: accuracy:0.3790[top1:37.9191, top5:61.5528], ece:0.0449, sce:0.0050, tace:0.0064, brier:0.7784, uce:0.0400\n",
            "CE: accuracy:0.3857[top1:38.5721, top5:67.2924], ece:0.3280, sce:0.0082, tace:0.0071, brier:0.8976, uce:0.3892\n"
          ],
          "name": "stdout"
        },
        {
          "output_type": "display_data",
          "data": {
            "image/png": "[encoded data removed]",
            "text/plain": [
              "<Figure size 432x288 with 1 Axes>"
            ]
          },
          "metadata": {
            "tags": [],
            "needs_background": "light"
          }
        }
      ]
    },
    {
      "cell_type": "markdown",
      "metadata": {
        "id": "KtHDATB0Yy3K"
      },
      "source": [
        "## Self-Distillation (Retio: 10)"
      ]
    },
    {
      "cell_type": "code",
      "metadata": {
        "colab": {
          "base_uri": "https://localhost:8080/",
          "height": 423
        },
        "id": "1AaolWswY6bg",
        "outputId": "7a487fa4-4c0c-4910-fdd1-22d14e79787c"
      },
      "source": [
        "import matplotlib.pyplot as plt\n",
        "%matplotlib inline\n",
        "\n",
        "def reliability_diagram_multi(conf_avg, acc_avg, legend=None, leg_idx=0, n_bins=10):\n",
        "    plt.figure(2)\n",
        "    plt.plot([0, 1], [0, 1], linestyle='--')\n",
        "    plt.xlabel('Confidence')\n",
        "    plt.ylabel('Accuracy')\n",
        "    plt.xticks(np.arange(0, 1.1, 1/n_bins))\n",
        "    plt.plot(conf_avg[acc_avg>0],acc_avg[acc_avg>0], marker='.', label = legend)\n",
        "    plt.legend()\n",
        "    plt.savefig('ece_rel_CDA_TS_imb_{}.png'.format(args.imb_factor),dpi=300)\n",
        "\n",
        "def calibration_metrics(logits_all, labels_all, model_name='Class-aware TS'):\n",
        "    uce = uceloss( logits_all.cpu(), labels_all.cpu())\n",
        "    logits = logits_all.detach().cpu().numpy()\n",
        "    labels = labels_all.detach().cpu().numpy()\n",
        "    ece, acc, conf, Bm = ece_eval(logits, labels, bg_cls=-1)\n",
        "    sce = get_sce(logits, labels)\n",
        "    tace = get_tace(logits, labels)\n",
        "    brier = get_brier(logits, labels)\n",
        "    print('%s:, ece:%0.4f, sce:%0.4f, tace:%0.4f, brier:%.4f, uce:%.4f' %(model_name, ece, sce, tace, brier, uce.item()) )\n",
        "    reliability_diagram_multi(conf, acc, legend=model_name)\n",
        "    \n",
        "args.imb_factor = 0.1\n",
        "seed_everything()\n",
        "ckpt_dirs = ['best_model_lt0.1_LS_0.0.pth.tar','best_model_lt0.1_CTS_T_4.09_170.pth.tar', 'best_model_lt0.1_SD_T_1.551_188.pth.tar','best_model_lt0.1_CTS_T_1.651_189.pth.tar']\n",
        "legend = ['Teacher', 'SD Fixed T', 'SD Opt. T','SD CDA Opt. T']\n",
        "for idx in range(len(ckpt_dirs)):\n",
        "    model = ResNet18().to(device)\n",
        "    model_dir = 'ckpt_sd_final0.1/'+ckpt_dirs[idx]\n",
        "    model.load_state_dict(torch.load(model_dir))\n",
        "    model.eval()\n",
        "    ece_criterion = _ECELoss().to(device)\n",
        "    loss, acc, logits_all, labels_all = evaluation(model, testloader, temp=1)\n",
        "    temperature_ece = ece_criterion(logits_all, labels_all).item()\n",
        "    print('%s: loss:%.3f, acc:%.3f, bef ece:%.5f'%(legend[idx],loss, acc,temperature_ece))\n",
        "    \n",
        "    calibration_metrics(F.softmax(logits_all, dim=1), labels_all, model_name=legend[idx])"
      ],
      "execution_count": null,
      "outputs": [
        {
          "output_type": "stream",
          "text": [
            "Teacher: loss:1.925, acc:57.600, bef ece:0.18007\n",
            "Teacher:, ece:0.1801, sce:0.0047, tace:0.0043, brier:0.6115, uce:0.2344\n",
            "SD Fixed T: loss:1.956, acc:57.640, bef ece:0.19739\n",
            "SD Fixed T:, ece:0.1974, sce:0.0050, tace:0.0044, brier:0.6190, uce:0.2498\n",
            "SD Opt. T: loss:1.868, acc:57.950, bef ece:0.17139\n",
            "SD Opt. T:, ece:0.1714, sce:0.0046, tace:0.0042, brier:0.5992, uce:0.2264\n",
            "SD CDA Opt. T: loss:1.843, acc:58.670, bef ece:0.16937\n",
            "SD CDA Opt. T:, ece:0.1694, sce:0.0046, tace:0.0042, brier:0.5968, uce:0.2230\n"
          ],
          "name": "stdout"
        },
        {
          "output_type": "display_data",
          "data": {
            "image/png": "[encoded data removed]",
            "text/plain": [
              "<Figure size 432x288 with 1 Axes>"
            ]
          },
          "metadata": {
            "tags": [],
            "needs_background": "light"
          }
        }
      ]
    },
    {
      "cell_type": "markdown",
      "metadata": {
        "id": "aY1KYGuNZDZ4"
      },
      "source": [
        "## Self-Distillation (Retio: 100)"
      ]
    },
    {
      "cell_type": "code",
      "metadata": {
        "colab": {
          "base_uri": "https://localhost:8080/",
          "height": 423
        },
        "id": "U4LkMp7xZD8O",
        "outputId": "e874a387-aa6b-49df-f3e3-8a5a63c087b8"
      },
      "source": [
        "import matplotlib.pyplot as plt\n",
        "%matplotlib inline\n",
        "\n",
        "def reliability_diagram_multi(conf_avg, acc_avg, legend=None, leg_idx=0, n_bins=10):\n",
        "    plt.figure(2)\n",
        "    plt.plot([0, 1], [0, 1], linestyle='--')\n",
        "    plt.xlabel('Confidence')\n",
        "    plt.ylabel('Accuracy')\n",
        "    plt.xticks(np.arange(0, 1.1, 1/n_bins))\n",
        "    #plt.title(title)\n",
        "    plt.plot(conf_avg[acc_avg>0],acc_avg[acc_avg>0], marker='.', label = legend)\n",
        "    plt.legend()\n",
        "    plt.savefig('ece_rel_CDA_TS_imb_{}.png'.format(args.imb_factor),dpi=300)\n",
        "\n",
        "def calibration_metrics(logits_all, labels_all, model_name='Class-aware TS'):\n",
        "    uce = uceloss( logits_all.cpu(), labels_all.cpu())\n",
        "    logits = logits_all.detach().cpu().numpy()\n",
        "    labels = labels_all.detach().cpu().numpy()\n",
        "    ece, acc, conf, Bm = ece_eval(logits, labels, bg_cls=-1)\n",
        "    sce = get_sce(logits, labels)\n",
        "    tace = get_tace(logits, labels)\n",
        "    brier = get_brier(logits, labels)\n",
        "    print('%s:, ece:%0.4f, sce:%0.4f, tace:%0.4f, brier:%.4f, uce:%.4f' %(model_name, ece, sce, tace, brier, uce.item()) )\n",
        "    reliability_diagram_multi(conf, acc, legend=model_name)\n",
        "    \n",
        "args.imb_factor = 0.01\n",
        "seed_everything()\n",
        "ckpt_dirs = ['best_model_lt0.01_LS_0.0.pth.tar','best_model_lt0.01_SD_T_4.0_168.pth.tar', 'best_model_lt0.01_SD_T_2.0147_263.pth.tar','best_model_lt0.01_CTS_T_4.09_299.pth.tar']\n",
        "legend = ['Teacher', 'SD Fixed T', 'SD Opt. T','SD CDA Opt. T']\n",
        "for idx in range(len(ckpt_dirs)):\n",
        "    model = ResNet18().to(device)\n",
        "    model_dir = 'ckpt_sd_final0.01/'+ckpt_dirs[idx]\n",
        "    model.load_state_dict(torch.load(model_dir))\n",
        "    model.eval()\n",
        "    ece_criterion = _ECELoss().to(device)\n",
        "    loss, acc, logits_all, labels_all = evaluation(model, testloader, temp=1)\n",
        "    temperature_ece = ece_criterion(logits_all, labels_all).item()\n",
        "    print('%s: loss:%.3f, acc:%.3f, bef ece:%.5f'%(legend[idx],loss, acc,temperature_ece))\n",
        "    \n",
        "    calibration_metrics(F.softmax(logits_all, dim=1), labels_all, model_name=legend[idx])"
      ],
      "execution_count": null,
      "outputs": [
        {
          "output_type": "stream",
          "text": [
            "Teacher: loss:3.183, acc:38.570, bef ece:0.32799\n",
            "Teacher:, ece:0.3280, sce:0.0082, tace:0.0071, brier:0.8976, uce:0.3892\n",
            "SD Fixed T: loss:3.280, acc:38.690, bef ece:0.34059\n",
            "SD Fixed T:, ece:0.3406, sce:0.0085, tace:0.0072, brier:0.9131, uce:0.4012\n",
            "SD Opt. T: loss:3.224, acc:38.610, bef ece:0.34077\n",
            "SD Opt. T:, ece:0.3408, sce:0.0085, tace:0.0072, brier:0.9073, uce:0.3988\n",
            "SD CDA Opt. T: loss:3.212, acc:38.870, bef ece:0.33717\n",
            "SD CDA Opt. T:, ece:0.3372, sce:0.0084, tace:0.0071, brier:0.9033, uce:0.3971\n"
          ],
          "name": "stdout"
        },
        {
          "output_type": "display_data",
          "data": {
            "image/png": "[encoded data removed]",
            "text/plain": [
              "<Figure size 432x288 with 1 Axes>"
            ]
          },
          "metadata": {
            "tags": [],
            "needs_background": "light"
          }
        }
      ]
    },
    {
      "cell_type": "code",
      "metadata": {
        "id": "2vvOAK5fdxUu"
      },
      "source": [
        ""
      ],
      "execution_count": null,
      "outputs": []
    }
  ]
}